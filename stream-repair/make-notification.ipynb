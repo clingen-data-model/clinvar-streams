{
 "cells": [
  {
   "cell_type": "code",
   "execution_count": null,
   "metadata": {},
   "outputs": [],
   "source": [
    "import json\n",
    "import importlib \n",
    "from google.cloud import storage\n",
    "\n",
    "import make_release_notification\n",
    "importlib.reload(make_release_notification)\n",
    "\n",
    "from make_release_notification import (\n",
    "    generate_notif_for_release\n",
    ")"
   ]
  },
  {
   "cell_type": "code",
   "execution_count": null,
   "metadata": {},
   "outputs": [],
   "source": [
    "storage_client = storage.Client(project=\"broad-dsp-monster-clingen-prod\")\n",
    "bucket_name = \"broad-dsp-monster-clingen-prod-ingest-results\"\n",
    "\n",
    "# Verify bucket exists\n",
    "bucket = storage_client.get_bucket(bucket_name)"
   ]
  },
  {
   "cell_type": "code",
   "execution_count": null,
   "metadata": {},
   "outputs": [],
   "source": [
    "# release_directory = \"20230730_manual_diff\"\n",
    "release_directory = \"20230910_manual_diff\"\n",
    "\n",
    "notif = generate_notif_for_release(\n",
    "    storage_client, \n",
    "    bucket, \n",
    "    release_directory,\n",
    "    #\"2023-07-30\"\n",
    ")\n",
    "\n",
    "print(json.dumps(notif))\n",
    "\n",
    "notif_filename = f\"{release_directory}-notif.json\"\n",
    "with open(notif_filename, \"w\") as fout:\n",
    "    fout.write(json.dumps(notif) + \"\\n\")\n",
    "print(f\"Wrote {notif_filename}\")"
   ]
  }
 ],
 "metadata": {
  "kernelspec": {
   "display_name": "venv",
   "language": "python",
   "name": "python3"
  },
  "language_info": {
   "codemirror_mode": {
    "name": "ipython",
    "version": 3
   },
   "file_extension": ".py",
   "mimetype": "text/x-python",
   "name": "python",
   "nbconvert_exporter": "python",
   "pygments_lexer": "ipython3",
   "version": "3.10.12"
  },
  "orig_nbformat": 4
 },
 "nbformat": 4,
 "nbformat_minor": 2
}
