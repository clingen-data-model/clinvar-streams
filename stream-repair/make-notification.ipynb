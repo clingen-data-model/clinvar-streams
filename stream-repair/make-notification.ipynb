{
 "cells": [
  {
   "cell_type": "code",
   "execution_count": 12,
   "metadata": {},
   "outputs": [],
   "source": [
    "import json\n",
    "import importlib \n",
    "from google.cloud import storage\n",
    "\n",
    "import make_release_notification\n",
    "importlib.reload(make_release_notification)\n",
    "\n",
    "from make_release_notification import (\n",
    "    generate_notif_for_release\n",
    ")"
   ]
  },
  {
   "cell_type": "code",
   "execution_count": 13,
   "metadata": {},
   "outputs": [],
   "source": [
    "storage_client = storage.Client(project=\"broad-dsp-monster-clingen-prod\")\n",
    "bucket_name = \"broad-dsp-monster-clingen-prod-ingest-results\"\n",
    "\n",
    "# Verify bucket exists\n",
    "bucket = storage_client.get_bucket(bucket_name)"
   ]
  },
  {
   "cell_type": "code",
   "execution_count": 14,
   "metadata": {},
   "outputs": [
    {
     "name": "stdout",
     "output_type": "stream",
     "text": [
      "{\n",
      "  \"release_date\": \"2023-07-30\",\n",
      "  \"bucket\": \"broad-dsp-monster-clingen-prod-ingest-results\",\n",
      "  \"files\": [\n",
      "    \"20230730_manual_diff/clinical_assertion/created/000000000000\",\n",
      "    \"20230730_manual_diff/clinical_assertion/deleted/000000000000\",\n",
      "    \"20230730_manual_diff/clinical_assertion/updated/000000000000\",\n",
      "    \"20230730_manual_diff/clinical_assertion_observation/created/000000000000\",\n",
      "    \"20230730_manual_diff/clinical_assertion_observation/deleted/000000000000\",\n",
      "    \"20230730_manual_diff/clinical_assertion_observation/updated/000000000000\",\n",
      "    \"20230730_manual_diff/clinical_assertion_trait/created/000000000000\",\n",
      "    \"20230730_manual_diff/clinical_assertion_trait/deleted/000000000000\",\n",
      "    \"20230730_manual_diff/clinical_assertion_trait/updated/000000000000\",\n",
      "    \"20230730_manual_diff/clinical_assertion_trait_set/created/000000000000\",\n",
      "    \"20230730_manual_diff/clinical_assertion_trait_set/deleted/000000000000\",\n",
      "    \"20230730_manual_diff/clinical_assertion_trait_set/updated/000000000000\",\n",
      "    \"20230730_manual_diff/clinical_assertion_variation/created/000000000000\",\n",
      "    \"20230730_manual_diff/clinical_assertion_variation/deleted/000000000000\",\n",
      "    \"20230730_manual_diff/clinical_assertion_variation/updated/000000000000\",\n",
      "    \"20230730_manual_diff/gene/created/000000000000\",\n",
      "    \"20230730_manual_diff/gene/deleted/000000000000\",\n",
      "    \"20230730_manual_diff/gene/updated/000000000000\",\n",
      "    \"20230730_manual_diff/gene_association/created/000000000000\",\n",
      "    \"20230730_manual_diff/gene_association/deleted/000000000000\",\n",
      "    \"20230730_manual_diff/gene_association/updated/000000000000\",\n",
      "    \"20230730_manual_diff/rcv_accession/created/000000000000\",\n",
      "    \"20230730_manual_diff/rcv_accession/deleted/000000000000\",\n",
      "    \"20230730_manual_diff/rcv_accession/updated/000000000000\",\n",
      "    \"20230730_manual_diff/submission/created/000000000000\",\n",
      "    \"20230730_manual_diff/submission/deleted/000000000000\",\n",
      "    \"20230730_manual_diff/submission/updated/000000000000\",\n",
      "    \"20230730_manual_diff/submitter/created/000000000000\",\n",
      "    \"20230730_manual_diff/submitter/deleted/000000000000\",\n",
      "    \"20230730_manual_diff/submitter/updated/000000000000\",\n",
      "    \"20230730_manual_diff/trait/created/000000000000\",\n",
      "    \"20230730_manual_diff/trait/deleted/000000000000\",\n",
      "    \"20230730_manual_diff/trait/updated/000000000000\",\n",
      "    \"20230730_manual_diff/trait_mapping/created/000000000000\",\n",
      "    \"20230730_manual_diff/trait_mapping/deleted/000000000000\",\n",
      "    \"20230730_manual_diff/trait_mapping/updated/000000000000\",\n",
      "    \"20230730_manual_diff/trait_set/created/000000000000\",\n",
      "    \"20230730_manual_diff/trait_set/deleted/000000000000\",\n",
      "    \"20230730_manual_diff/trait_set/updated/000000000000\",\n",
      "    \"20230730_manual_diff/variation/created/000000000000\",\n",
      "    \"20230730_manual_diff/variation/deleted/000000000000\",\n",
      "    \"20230730_manual_diff/variation/updated/000000000000\",\n",
      "    \"20230730_manual_diff/variation/updated/000000000001\",\n",
      "    \"20230730_manual_diff/variation/updated/000000000002\",\n",
      "    \"20230730_manual_diff/variation/updated/000000000003\",\n",
      "    \"20230730_manual_diff/variation/updated/000000000004\",\n",
      "    \"20230730_manual_diff/variation_archive/created/000000000000\",\n",
      "    \"20230730_manual_diff/variation_archive/deleted/000000000000\",\n",
      "    \"20230730_manual_diff/variation_archive/updated/000000000000\"\n",
      "  ]\n",
      "}\n"
     ]
    }
   ],
   "source": [
    "notif = generate_notif_for_release(\n",
    "    storage_client, \n",
    "    bucket, \n",
    "    \"20230730_manual_diff\",\n",
    "    #\"2023-07-30\"\n",
    ")\n",
    "\n",
    "print(json.dumps(notif, indent=2))"
   ]
  },
  {
   "cell_type": "code",
   "execution_count": null,
   "metadata": {},
   "outputs": [],
   "source": []
  }
 ],
 "metadata": {
  "kernelspec": {
   "display_name": "venv",
   "language": "python",
   "name": "python3"
  },
  "language_info": {
   "codemirror_mode": {
    "name": "ipython",
    "version": 3
   },
   "file_extension": ".py",
   "mimetype": "text/x-python",
   "name": "python",
   "nbconvert_exporter": "python",
   "pygments_lexer": "ipython3",
   "version": "3.10.11"
  },
  "orig_nbformat": 4
 },
 "nbformat": 4,
 "nbformat_minor": 2
}
